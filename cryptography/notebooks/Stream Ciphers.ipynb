{
 "cells": [
  {
   "cell_type": "markdown",
   "metadata": {},
   "source": [
    "# Table of contents:\n",
    "\n",
    "* [Stream Ciphers](#streamciphers)\n",
    "* [ChaCha20 Stream Cipher](#chacha20)\n",
    "* [Length of ciphertext in stream cipher](#len)\n",
    "\n",
    "\n",
    "Author: [Sebastià Agramunt Puig](https://github.com/sebastiaagramunt) for [OpenMined](https://www.openmined.org/) Privacy ML Series course."
   ]
  },
  {
   "cell_type": "markdown",
   "metadata": {},
   "source": [
    "# Stream ciphers <a class=\"anchor\" id=\"streamciphers\"></a>\n",
    "\n",
    "So far, the cipher we coded pads bit by bit or, equivalently byte by byte, this is what we know as **stream cipher** because we generate a stream of bytes to pad the message. Of course our homemade implementation is not the perfect one. Hopefully we have the ```cryptography``` package!.\n"
   ]
  },
  {
   "cell_type": "markdown",
   "metadata": {},
   "source": [
    "<img src=\"img/stream_cipher.png\" style=\"width:900px\"/>"
   ]
  },
  {
   "cell_type": "markdown",
   "metadata": {},
   "source": [
    "# The ChaCha20 Stream Cipher <a class=\"anchor\" id=\"chacha20\"></a>\n",
    "\n",
    "The ciphertext has the same lenght as the plaintext, if we add one more bit to the plaintext that would result in one more bit in the plaintext. Let's use a stream cipher called [ChaCha20](https://tools.ietf.org/html/draft-strombergson-chacha-test-vectors-00), you can find a python [implementation](https://asecuritysite.com/encryption/chacha) and the original [paper](https://cr.yp.to/chacha/chacha-20080120.pdf)."
   ]
  },
  {
   "cell_type": "code",
   "execution_count": null,
   "metadata": {},
   "outputs": [],
   "source": [
    "import os\n",
    "from cryptography.hazmat.primitives.ciphers import Cipher, algorithms, modes\n",
    "from cryptography.hazmat.backends import default_backend\n",
    "\n",
    "secret_key = os.urandom(32)\n",
    "nonce = os.urandom(16)\n",
    "algorithm = algorithms.ChaCha20(secret_key, nonce)\n",
    "\n",
    "chachacipher = Cipher(algorithm, mode=None, backend=default_backend())\n",
    "encryptor = chachacipher.encryptor()\n",
    "decryptor = chachacipher.decryptor()"
   ]
  },
  {
   "cell_type": "code",
   "execution_count": null,
   "metadata": {},
   "outputs": [],
   "source": [
    "message = b'A super secret message'\n",
    "ctx = encryptor.update(message)\n",
    "ptx = decryptor.update(ctx)\n",
    "\n",
    "print(f\"original message:\\n\\t{message}\")\n",
    "print(f\"ctx:\\n\\t{ctx}\")\n",
    "print(f\"recovered message:\\n\\t{ptx}\")"
   ]
  },
  {
   "cell_type": "code",
   "execution_count": null,
   "metadata": {},
   "outputs": [],
   "source": [
    "nonce = os.urandom(16)\n",
    "algorithm = algorithms.ChaCha20(secret_key, nonce)\n",
    "\n",
    "chachacipher = Cipher(algorithm, mode=None, backend=default_backend())\n",
    "encryptor = chachacipher.encryptor()\n",
    "decryptor = chachacipher.decryptor()\n",
    "\n",
    "message = b'A super secret message'\n",
    "ctx = encryptor.update(message)\n",
    "ptx = decryptor.update(ctx)\n",
    "\n",
    "print(f\"original message:\\n\\t{message}\")\n",
    "print(f\"ctx:\\n\\t{ctx}\")\n",
    "print(f\"recovered message:\\n\\t{ptx}\")"
   ]
  },
  {
   "cell_type": "markdown",
   "metadata": {},
   "source": [
    "# Length of the ciphertext in stream ciphers <a class=\"anchor\" id=\"len\"></a>\n",
    "\n",
    "The lenght of the ciphertext is the same as the lenght of the plaintext in stream ciphers. In the next example we create a message of all characters \"a\" and encrypt with ChaCha20 cipher:"
   ]
  },
  {
   "cell_type": "code",
   "execution_count": null,
   "metadata": {},
   "outputs": [],
   "source": [
    "for message_len in range(32):\n",
    "    message = str.encode(\"a\"*message_len)\n",
    "    ctx = encryptor.update(message)\n",
    "    print(f\"message_len: {message_len}, ciphertext_len: {len(ctx)}\")"
   ]
  },
  {
   "cell_type": "markdown",
   "metadata": {},
   "source": [
    "Since in stream ciphers (in general) we are XORing byte by byte using the original message and a pseudorandomly generated stream of bytes, the length of the message is the same as the length of the ciphertext."
   ]
  }
 ],
 "metadata": {
  "kernelspec": {
   "display_name": "Python 3",
   "language": "python",
   "name": "python3"
  },
  "language_info": {
   "codemirror_mode": {
    "name": "ipython",
    "version": 3
   },
   "file_extension": ".py",
   "mimetype": "text/x-python",
   "name": "python",
   "nbconvert_exporter": "python",
   "pygments_lexer": "ipython3",
   "version": "3.6.7"
  }
 },
 "nbformat": 4,
 "nbformat_minor": 4
}
