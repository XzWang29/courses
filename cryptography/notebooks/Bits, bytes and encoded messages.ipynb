{
 "cells": [
  {
   "cell_type": "markdown",
   "id": "involved-conference",
   "metadata": {},
   "source": [
    "# Bits, bytes and encoded messages\n",
    "\n",
    "The only information computers understad is in binary form but we (as humans) need to work in other bases, for instance the natural numbers (or base 10). Here we will learn how to transform in between bases and how characters are represented in the computer.\n",
    "\n",
    "# Table of contents:\n",
    "\n",
    "* [Bits](#bits)\n",
    "* [Bytes](#bytes)\n",
    "* [Bases: Decimal, binary, hexadecimal and octal](#bases)\n",
    "* [Encoding information](#encoding)\n",
    "* [Bonus: Hexadecimal to bytes](#hex-to-bytes)\n",
    "\n",
    "    \n",
    "Author: [Sebastià Agramunt Puig](https://github.com/sebastiaagramunt) for [OpenMined](https://www.openmined.org/) Privacy ML Series course."
   ]
  },
  {
   "cell_type": "markdown",
   "id": "regulation-phrase",
   "metadata": {},
   "source": [
    "## Bits <a class=\"anchor\" id=\"bits\"></a>\n",
    "\n",
    "A **bit** is a binary number, 0 or 1.  \n",
    "\n",
    "$$1101$$\n",
    "\n",
    "So what is this number in base 10? The binary number 1101 can also be written as follows: ($1 * 2^3$) + ($1 * 2^2$) + ($0 * 2^1$) + ($1 * 2^0$) = $13$."
   ]
  },
  {
   "cell_type": "code",
   "execution_count": null,
   "id": "adverse-technology",
   "metadata": {},
   "outputs": [],
   "source": [
    "from random import randrange\n",
    "\n",
    "bits = '0b' + ''.join([str(randrange(2)) for _ in range(10)])\n",
    "bits"
   ]
  },
  {
   "cell_type": "code",
   "execution_count": null,
   "id": "analyzed-admission",
   "metadata": {},
   "outputs": [],
   "source": [
    "int(bits, 2)"
   ]
  },
  {
   "cell_type": "code",
   "execution_count": null,
   "id": "induced-teens",
   "metadata": {},
   "outputs": [],
   "source": [
    "sum([int(k)*2**(len(bits[2:])-i-1) for i, k in enumerate(bits[2:])])"
   ]
  },
  {
   "cell_type": "markdown",
   "id": "permanent-spouse",
   "metadata": {},
   "source": [
    "What's the largest number we can represent in $n$ bits?"
   ]
  },
  {
   "cell_type": "code",
   "execution_count": null,
   "id": "rough-operator",
   "metadata": {},
   "outputs": [],
   "source": [
    "n = 8\n",
    "\n",
    "print(f\"max integer (base 10) value for {n} bits is {2**n -1}\")"
   ]
  },
  {
   "cell_type": "markdown",
   "id": "polar-jerusalem",
   "metadata": {},
   "source": [
    "## Bytes <a class=\"anchor\" id=\"bytes\"></a>\n",
    "\n",
    "A **byte** is a collection of 8 bits. is a byte expressed in binary form. The maximum value (in base 10) of a byte is $2^8-1$, therefore 255.  "
   ]
  },
  {
   "cell_type": "code",
   "execution_count": null,
   "id": "applied-graphics",
   "metadata": {},
   "outputs": [],
   "source": [
    "bytes_int = [randrange(256) for _ in range(10)]\n",
    "print(f\"bytes_int\\n\\t{bytes_int}\")\n",
    "\n",
    "bytes_bin = [bin(x) for x in bytes_int]\n",
    "print(f\"bytes_bin\\n\\t{bytes_bin}\")"
   ]
  },
  {
   "cell_type": "code",
   "execution_count": null,
   "id": "narrative-overhead",
   "metadata": {},
   "outputs": [],
   "source": [
    "int(\"0b00111010\", 2)"
   ]
  },
  {
   "cell_type": "markdown",
   "id": "appreciated-ground",
   "metadata": {},
   "source": [
    "## Bases: Decimal, binary, hexadecimal and octal <a class=\"anchor\" id=\"bases\"></a>\n",
    "\n",
    "So far we represented numbers in base 2 (binary form) or base 10 (decimal form). But we can also express numbers in octal (base 8) or hexadecimal (base 16), check [this](https://www.rapidtables.com/convert/number/base-converter.html) conversor.\n",
    "\n",
    "**Hexadecimal characters**: [0, 1, 2, 3, 4, 5, 6, 7, 8, 9, a, b, c, d, e, f]\n",
    "\n",
    "**Octal characters**: [0, 1, 2, 3, 4, 5, 6, 7]\n",
    "\n",
    "**Decimal characters**: [0, 1, 2, 3, 4, 5, 6, 7, 8, 9]\n",
    "\n",
    "\n",
    "For instance:\n",
    "\n",
    "$654_{10}$=$1010001110_2$=$1216_8$=$28\\rm{E}_{16}$\n",
    "\n",
    "8 binary characters = 1 byte, max in base 10: 255\n"
   ]
  },
  {
   "cell_type": "code",
   "execution_count": null,
   "id": "inappropriate-netscape",
   "metadata": {},
   "outputs": [],
   "source": [
    "n_bytes = 2\n",
    "x = randrange(2**(8*n_bytes))\n",
    "\n",
    "print(f\"x in binary (base 2):\\n\\t{bin(x)}\")\n",
    "print(f\"x in octal (base 8):\\n\\t{oct(x)}\")\n",
    "print(f\"x in decimal (base 10):\\n\\t{x}\")\n",
    "print(f\"x in hexadecimal (base 16):\\n\\t{hex(x)}\")"
   ]
  },
  {
   "cell_type": "markdown",
   "id": "accompanied-tourism",
   "metadata": {},
   "source": [
    "## Encoding information <a class=\"anchor\" id=\"encoding\"></a>\n",
    "\n",
    "How can we represent chracters in the computer?. We need a dictionary that is able to convert an integer to its character form. This is known as encoding. \n",
    "\n",
    "UTF-8 is the Unicode Transformation Format for 8 bits (a byte). UTF bytes string is of variable length, having as maximum 4 bytes. ASCII (American Standard Code for Information Interchange) are designated as characters of one byte because they are the most frequently used (also it has a reason historically).\n",
    "\n",
    "Let's print the ascii characters!"
   ]
  },
  {
   "cell_type": "code",
   "execution_count": null,
   "id": "parallel-smoke",
   "metadata": {},
   "outputs": [],
   "source": [
    "for i in range(0, 128):\n",
    "    b = i.to_bytes(1, byteorder='big')\n",
    "    print(f\"int = {i}, hex = {hex(i)}, bytes = {b}, decoded = {b.decode(encoding='UTF-8')}\")"
   ]
  },
  {
   "cell_type": "code",
   "execution_count": null,
   "id": "destroyed-receptor",
   "metadata": {},
   "outputs": [],
   "source": [
    "x = int('e0a887', 16)\n",
    "x_b = x.to_bytes(3, byteorder='big')\n",
    "dec_char = x_b.decode(encoding=\"UTF-8\")\n",
    "\n",
    "print(f\"int = {x}\")\n",
    "print(f\"bytes = {x_b}\")\n",
    "print(f\"decoded = {dec_char}\")"
   ]
  },
  {
   "cell_type": "markdown",
   "id": "joint-paragraph",
   "metadata": {},
   "source": [
    "We can turn a message from ascii letters into bytes (according to UTF-8 encoding) and then transform it into its binary, hexadecimal or octal form:"
   ]
  },
  {
   "cell_type": "code",
   "execution_count": null,
   "id": "technical-calvin",
   "metadata": {},
   "outputs": [],
   "source": [
    "from crypto import bytes_to_bin, bytes_to_hex\n",
    "\n",
    "message = b\"simple message\"\n",
    "\n",
    "bin_repr = bytes_to_bin(message, pre=\"\")\n",
    "hex_repr = bytes_to_hex(message, pre=\"\")\n",
    "\n",
    "print(f\"message:\\n{str(message)}\\n\")\n",
    "print(f\"message in binary:\\n{bin_repr}\\n\")\n",
    "print(f\"message in hexadecimal:\\n{hex_repr}\\n\")"
   ]
  },
  {
   "cell_type": "markdown",
   "id": "funky-browser",
   "metadata": {},
   "source": [
    "## Bonus: from hexadecimal to bytes <a class=\"anchor\" id=\"hex-to-bytes\"></a>\n",
    "\n",
    "Sometimes we want to see a string of bytes in hexadecimal form instead of the default given by python (it's encoded in UTF-8 actually, recall the "
   ]
  },
  {
   "cell_type": "code",
   "execution_count": null,
   "id": "average-cabin",
   "metadata": {},
   "outputs": [],
   "source": [
    "from random import seed\n",
    "\n",
    "seed(8)\n",
    "bytes_int = [randrange(256) for _ in range(10)]\n",
    "bytes_stream = bytes(bytes_int)\n",
    "int_form = int.from_bytes(bytes_stream, \"big\")\n",
    "print(f\"(int bytes):\\n\\t{bytes_int}\\n\")\n",
    "print(f\"(int):\\n\\t{int_form}\\n\")\n",
    "print(f\"(bytes):\\n\\t{bytes_stream}\\n\")"
   ]
  },
  {
   "cell_type": "markdown",
   "id": "lyric-foundation",
   "metadata": {},
   "source": [
    "See in this example we have characters \"t\", \"+\" or \"~\", these obviously are not hexadecimal as bytes is encoded in utf-8 in python. Let's work a little bit on that"
   ]
  },
  {
   "cell_type": "code",
   "execution_count": null,
   "id": "northern-sleep",
   "metadata": {},
   "outputs": [],
   "source": [
    "bin_repr = bytes_to_bin(bytes_stream, pre=\"\")\n",
    "hex_repr = bytes_to_hex(bytes_stream, pre=\"\")\n",
    "\n",
    "print(f\"(bin):\\n\\t{bin_repr}\\n\")\n",
    "print(f\"(hex):\\n\\t{hex_repr}\\n\")"
   ]
  },
  {
   "cell_type": "code",
   "execution_count": null,
   "id": "latter-circular",
   "metadata": {},
   "outputs": [],
   "source": [
    "# convert hex string into bytes\n",
    "bytes_stream2 = bytes.fromhex(hex_repr)\n",
    "\n",
    "assert bytes_stream==bytes_stream2, \"something went wrong\"\n",
    "print(f\"(bytes):\\n\\t{bytes_stream2}\\n\")"
   ]
  },
  {
   "cell_type": "code",
   "execution_count": null,
   "id": "overall-shoot",
   "metadata": {},
   "outputs": [],
   "source": []
  }
 ],
 "metadata": {
  "kernelspec": {
   "display_name": "Python 3",
   "language": "python",
   "name": "python3"
  },
  "language_info": {
   "codemirror_mode": {
    "name": "ipython",
    "version": 3
   },
   "file_extension": ".py",
   "mimetype": "text/x-python",
   "name": "python",
   "nbconvert_exporter": "python",
   "pygments_lexer": "ipython3",
   "version": "3.6.7"
  }
 },
 "nbformat": 4,
 "nbformat_minor": 5
}
