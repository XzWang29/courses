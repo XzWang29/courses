{
 "cells": [
  {
   "cell_type": "markdown",
   "id": "static-storm",
   "metadata": {},
   "source": [
    "Author: [Sebastià Agramunt Puig](https://github.com/sebastiaagramunt) for [OpenMined](https://www.openmined.org/) Privacy ML Series course.\n",
    "\n",
    "# Exercise 1: Encrypt an image with AES and ECB mode\n",
    "\n",
    "In this exercice we want to encrypt an image of Tux, the famous penguin from Linux using the AES algorithm and the Electronic Code Book mode."
   ]
  },
  {
   "cell_type": "markdown",
   "id": "adjustable-platform",
   "metadata": {},
   "source": [
    "<img src=\"img/ECB_mode.png\" style=\"width:1100px\"/>"
   ]
  },
  {
   "cell_type": "markdown",
   "id": "loving-immigration",
   "metadata": {},
   "source": [
    "## Plotting the image of Tux\n",
    "\n",
    "The file is on `../data/tux.png`. "
   ]
  },
  {
   "cell_type": "code",
   "execution_count": null,
   "id": "israeli-trout",
   "metadata": {},
   "outputs": [],
   "source": [
    "import matplotlib.pyplot as plt\n",
    "import numpy as np\n",
    "\n",
    "def plot_array(img: np.ndarray, size = (5, 5)):\n",
    "    plt.clf()\n",
    "    fig = plt.figure()\n",
    "    fig.set_size_inches(size[0], size[1])\n",
    "    ax = fig.add_axes([0, 0, 1, 1], frameon=False, aspect=1)\n",
    "    ax.set_xticks([])\n",
    "    ax.set_yticks([])\n",
    "    plt.imshow(img, cmap='Greys')\n",
    "    plt.show()"
   ]
  },
  {
   "cell_type": "code",
   "execution_count": null,
   "id": "exotic-bench",
   "metadata": {},
   "outputs": [],
   "source": [
    "# open image with PIL.Image\n",
    "from PIL import Image\n",
    "img = Image.open(\"../data/tux.png\")\n",
    "\n",
    "# convert image to numpy ndarray\n",
    "img = np.array(img)\n",
    "\n",
    "# plot shape and type of pixels\n",
    "print(f\"Shape of image: {img.shape}\")\n",
    "print(f\"Type of image: {img.dtype}\")\n",
    "# show plot of tux!\n",
    "plot_array(img)"
   ]
  },
  {
   "cell_type": "code",
   "execution_count": null,
   "id": "rapid-collapse",
   "metadata": {},
   "outputs": [],
   "source": [
    "# save the shape of the image\n",
    "shape = (img.shape[0], img.shape[1], img.shape[2])"
   ]
  },
  {
   "cell_type": "markdown",
   "id": "radio-surgeon",
   "metadata": {},
   "source": [
    "## Converting the image pixels to bytes\n",
    "\n",
    "In this section you need to convert the `np.array` of the image to an array of bytes that will be our plaintext to encrypt"
   ]
  },
  {
   "cell_type": "code",
   "execution_count": null,
   "id": "offensive-advantage",
   "metadata": {},
   "outputs": [],
   "source": [
    "# flatten the image\n",
    "img_flat = img.flatten()\n",
    "\n",
    "# recall that all pixels are of type unsigned integer of 8 bits (uint8), that's a byte! \n",
    "img_bytes = bytes([x for x in img_flat])\n",
    "\n",
    "# print the first 10 bytes\n",
    "print(img_bytes[1000:1050])"
   ]
  },
  {
   "cell_type": "markdown",
   "id": "czech-graduation",
   "metadata": {},
   "source": [
    "## Padding the message (image)\n",
    "\n",
    "We want to use AES with a block size of 16 bytes, let's see if we need to pad the image"
   ]
  },
  {
   "cell_type": "code",
   "execution_count": null,
   "id": "comic-cursor",
   "metadata": {},
   "outputs": [],
   "source": [
    "# check if we need to pad the message (image), if so use PKCS7 from cryptography library\n",
    "block_size = 16\n",
    "print(f\"Bytes remainder {len(img_bytes)%block_size}\")"
   ]
  },
  {
   "cell_type": "markdown",
   "id": "diverse-trustee",
   "metadata": {},
   "source": [
    "One job less! We don't need to pad the image as it is already a multiple of 16!."
   ]
  },
  {
   "cell_type": "markdown",
   "id": "rough-cycling",
   "metadata": {},
   "source": [
    "## Declare the AES in ECB mode"
   ]
  },
  {
   "cell_type": "code",
   "execution_count": null,
   "id": "remarkable-hardwood",
   "metadata": {},
   "outputs": [],
   "source": [
    "from cryptography.hazmat.primitives.ciphers import Cipher, algorithms, modes\n",
    "from cryptography.hazmat.backends import default_backend\n",
    "import os\n",
    "\n",
    "# draw 32 random bytes for secret key\n",
    "secret_key = os.urandom(32)\n",
    "\n",
    "# define cipher with AES algorithm and ECB mode\n",
    "cipher = Cipher(algorithms.AES(secret_key), modes.ECB(), backend=default_backend())\n",
    "\n",
    "# define encryptor and decryptor\n",
    "encryptor = cipher.encryptor()\n",
    "decryptor = cipher.decryptor()"
   ]
  },
  {
   "cell_type": "code",
   "execution_count": null,
   "id": "numerical-diabetes",
   "metadata": {},
   "outputs": [],
   "source": [
    "# encrypt the image\n",
    "ctx = encryptor.update(img_bytes) + encryptor.finalize()"
   ]
  },
  {
   "cell_type": "code",
   "execution_count": null,
   "id": "black-carry",
   "metadata": {},
   "outputs": [],
   "source": [
    "print(ctx[0:50])"
   ]
  },
  {
   "cell_type": "markdown",
   "id": "early-parts",
   "metadata": {},
   "source": [
    "## Plot the ciphertext"
   ]
  },
  {
   "cell_type": "code",
   "execution_count": null,
   "id": "attended-mortgage",
   "metadata": {},
   "outputs": [],
   "source": [
    "# reshape the ciphertext to the oringial shape of the image\n",
    "ctx_flat_int = [x for x in ctx]\n",
    "ctx_img = np.array(ctx_flat_int).reshape(shape[0], shape[1], shape[2])\n",
    "\n",
    "# plot ciphertext of Tux!\n",
    "plot_array(ctx_img)"
   ]
  },
  {
   "cell_type": "markdown",
   "id": "communist-grill",
   "metadata": {},
   "source": [
    "Well, if an eavesdroper sees this, he certainly knows that this is Tux!. Let's decrypt this and recover the original image "
   ]
  },
  {
   "cell_type": "markdown",
   "id": "oriented-monroe",
   "metadata": {},
   "source": [
    "## Recover the original image"
   ]
  },
  {
   "cell_type": "code",
   "execution_count": null,
   "id": "connected-computer",
   "metadata": {},
   "outputs": [],
   "source": [
    "# get the plaintext in bytes\n",
    "pltx = decryptor.update(ctx)\n",
    "\n",
    "# reshape the plaintext to get the pixels\n",
    "pltx_img = np.array([x for x in pltx], dtype=np.uint8).reshape(shape[0], shape[1], shape[2])\n",
    "\n",
    "# plot image\n",
    "plot_array(pltx_img)"
   ]
  },
  {
   "cell_type": "markdown",
   "id": "accepted-silence",
   "metadata": {},
   "source": [
    "# Exercise 2: Encrypt an image with AES and CBC mode"
   ]
  },
  {
   "cell_type": "markdown",
   "id": "southwest-exception",
   "metadata": {},
   "source": [
    "<img src=\"img/CBC_mode.png\" style=\"width:1100px\"/>"
   ]
  },
  {
   "cell_type": "code",
   "execution_count": null,
   "id": "cardiac-arrangement",
   "metadata": {},
   "outputs": [],
   "source": [
    "# draw secret key of 32 bytes\n",
    "secret_key = os.urandom(32)\n",
    "\n",
    "# draw initialization vector 16 bytes\n",
    "iv = os.urandom(16)\n",
    "\n",
    "# build the cipher using CBC\n",
    "cipher = Cipher(algorithms.AES(secret_key), modes.CBC(iv), backend=default_backend())\n",
    "\n",
    "encryptor = cipher.encryptor()\n",
    "decryptor = cipher.decryptor()"
   ]
  },
  {
   "cell_type": "code",
   "execution_count": null,
   "id": "accepting-exemption",
   "metadata": {},
   "outputs": [],
   "source": [
    "# encrypt image\n",
    "ctx = encryptor.update(img_bytes) + encryptor.finalize()"
   ]
  },
  {
   "cell_type": "code",
   "execution_count": null,
   "id": "local-locking",
   "metadata": {},
   "outputs": [],
   "source": [
    "print(ctx[0:100])"
   ]
  },
  {
   "cell_type": "code",
   "execution_count": null,
   "id": "hollow-summer",
   "metadata": {},
   "outputs": [],
   "source": [
    "# reshape the ciphertext to the oringial shape of the image and plot\n",
    "ctx_flat_int = [x for x in ctx]\n",
    "ctx_img = np.array(ctx_flat_int).reshape(shape[0], shape[1], shape[2])\n",
    "\n",
    "# plot ciphertext of Tux!\n",
    "plot_array(ctx_img)"
   ]
  },
  {
   "cell_type": "markdown",
   "id": "antique-rally",
   "metadata": {},
   "source": [
    "# Conclusions\n",
    "\n",
    "ECB mode is not a good mode to operate as every byte in the plaintext is converted to the same byte in the ciphertext and therefore it won't work on images. "
   ]
  },
  {
   "cell_type": "code",
   "execution_count": null,
   "id": "indirect-radius",
   "metadata": {},
   "outputs": [],
   "source": []
  }
 ],
 "metadata": {
  "kernelspec": {
   "display_name": "Python 3",
   "language": "python",
   "name": "python3"
  },
  "language_info": {
   "codemirror_mode": {
    "name": "ipython",
    "version": 3
   },
   "file_extension": ".py",
   "mimetype": "text/x-python",
   "name": "python",
   "nbconvert_exporter": "python",
   "pygments_lexer": "ipython3",
   "version": "3.6.7"
  }
 },
 "nbformat": 4,
 "nbformat_minor": 5
}
