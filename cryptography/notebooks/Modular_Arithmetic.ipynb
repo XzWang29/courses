{
 "cells": [
  {
   "cell_type": "markdown",
   "metadata": {},
   "source": [
    "# Modular Arithmetic\n",
    "\n",
    "The foundations of arithmetics for cryptography lies in modular arithmetic. In this section we are going to see what's modulo arithmetic and define an algebraic group using this operation.\n",
    "\n",
    "\n",
    "# Table of contents:\n",
    "\n",
    "* [Modular arithmetic: Definition](#modular-arithmetic)\n",
    "* [Sum in Modular arithmetic](#modular-arithmetic-sum)\n",
    "    * [The group of modulo $m$ with sum](#group-mod-sum)\n",
    "        * [Closure](#closure)\n",
    "        * [Associativity](#associativity)\n",
    "        * [Identity](#identity)\n",
    "        * [Inverse](#inverse)\n",
    "* [Cyclic group](#cyclicgroup)\n",
    "* [Product in modular arithmetic](#prodmod)\n",
    "    * [Closure](#closure2)\n",
    "    * [Associativity](#associativity2)\n",
    "    * [Identity](#identity2)\n",
    "    * [Inverse](#inverse2)\n",
    "\n",
    "    \n",
    "Author: [Sebastià Agramunt Puig](https://github.com/sebastiaagramunt) for [OpenMined](https://www.openmined.org/) Privacy ML Series course.\n",
    "\n",
    "\n",
    "# Modular arithmetic: Definition <a class=\"anchor\" id=\"modular-arithmetic\"></a>\n",
    "\n",
    "We define the modulo operation in te context of integeres as the remainder of a division. For instance being $i$ and $m$ two integers, we say that $i$ (mod $m$) is the remainder of the division of $i$ by $m$. Let's see an example:"
   ]
  },
  {
   "cell_type": "code",
   "execution_count": null,
   "metadata": {},
   "outputs": [],
   "source": [
    "7%5"
   ]
  },
  {
   "cell_type": "code",
   "execution_count": null,
   "metadata": {},
   "outputs": [],
   "source": [
    "m = 6\n",
    "for i in range(2*m):\n",
    "    print(f\"i={i}, {i}(mod {m})={i%m}\")"
   ]
  },
  {
   "cell_type": "markdown",
   "metadata": {},
   "source": [
    "Here all numbers are from 0 till $m-1$ so when $i$ reaches $m$, it gets back to the value of 0.\n",
    "\n",
    "# Sum modular arithmetic <a class=\"anchor\" id=\"modular-arithmetic-sum\"></a>\n",
    "\n",
    "In modular sum we need to apply the modulo operation after we performed the sum:"
   ]
  },
  {
   "cell_type": "code",
   "execution_count": null,
   "metadata": {},
   "outputs": [],
   "source": [
    "(4%6+5%6)%6"
   ]
  },
  {
   "cell_type": "code",
   "execution_count": null,
   "metadata": {},
   "outputs": [],
   "source": [
    "m = 6\n",
    "j = 3\n",
    "\n",
    "for i in range(m):\n",
    "    print(f\"{i}+{j} (mod {m}), sum={(i+j)%m}\")"
   ]
  },
  {
   "cell_type": "markdown",
   "metadata": {},
   "source": [
    "## The group of the modulo sum operation <a class=\"anchor\" id=\"group-mod-sum\"></a>\n",
    "\n",
    "Recall that for a fixed $m$ all the possible values are\n",
    "\n",
    "$G$ = {0, 1, 2, ..., $m$-1)\n",
    "\n",
    "The elements with the modulo sum operation constitutes an **algebraic group** denoted as: ($G$, $+$). An algebraic group has the following properties:\n",
    "\n",
    "\n",
    "* **Closure**: for any $a$ and $b$ in the set, the operation $a + b$ must also be in the set.\n",
    "* **Associativity** for any $a$, $b$ and $c$ in the set, $(a + b)+ c = a + (b + c)$\n",
    "* **Existence of identity**: There exist an element $e$ in the set such that for any $a$ in the set $a + e = a$\n",
    "* **Inverse Element**: For any element in the group $a$ there must be another element $b$ such that $a + b = e$\n",
    "\n",
    "If additionally the operation is commutative ($a+b$=$b+a$) then we say that the group is commutative or abelian.\n",
    "\n",
    "\n",
    "### closure <a class=\"anchor\" id=\"closure\"></a>\n",
    "\n",
    "Straightforward to check, any two integers (not even in positive values smaller than $m$) are smaller than $m$ when performing the modulo sum\n",
    "\n",
    "### associativity <a class=\"anchor\" id=\"associativity\"></a>"
   ]
  },
  {
   "cell_type": "code",
   "execution_count": null,
   "metadata": {},
   "outputs": [],
   "source": [
    "m = 7\n",
    "i, j, k = 3, 5, 2\n",
    "\n",
    "assert ((i+j)%m + k)%m==(i+(j+k)%m)%m"
   ]
  },
  {
   "cell_type": "markdown",
   "metadata": {},
   "source": [
    "### existence of identity <a class=\"anchor\" id=\"identity\"></a>\n",
    "\n",
    "The identity of the sum is 0"
   ]
  },
  {
   "cell_type": "code",
   "execution_count": null,
   "metadata": {},
   "outputs": [],
   "source": [
    "m = 7\n",
    "\n",
    "i, e = 4, 0\n",
    "\n",
    "assert (i+e)%m==i%m"
   ]
  },
  {
   "cell_type": "markdown",
   "metadata": {},
   "source": [
    "### Inverse of element <a class=\"anchor\" id=\"inverse\"></a>"
   ]
  },
  {
   "cell_type": "code",
   "execution_count": null,
   "metadata": {},
   "outputs": [],
   "source": [
    "m = 7\n",
    "\n",
    "i = 3\n",
    "e = 0\n",
    "i_inv = m-i\n",
    "\n",
    "\n",
    "#for j in range(m):\n",
    "#    print(f\"{i}+{j}={(i+j)%m}\")\n",
    "\n",
    "assert(i+i_inv)%m==e"
   ]
  },
  {
   "cell_type": "markdown",
   "metadata": {},
   "source": [
    "# Cyclic group  <a class=\"anchor\" id=\"cyclicgroup\"></a>\n",
    "\n",
    "A special case of group is the cyclic group. We say that a group is cyclic if it is possible to generate all the elements of the group, by taking one element and sucessively apply the operation. We call such element the **generator** of the group and is commonly denoted by $g$.\n",
    "\n",
    "$$G = \\{g^0, g^1, ..., g^{m-1}\\}$$\n",
    "\n",
    "where $m$ is the number of elements of the group, also known as the **order** of the group."
   ]
  },
  {
   "cell_type": "code",
   "execution_count": null,
   "metadata": {},
   "outputs": [],
   "source": [
    "m = 8\n",
    "\n",
    "g = 2\n",
    "prev_power = g\n",
    "\n",
    "for count in range(2,m):\n",
    "    prev_power = (prev_power+g)%m\n",
    "    print(f\"{g}^{count}={prev_power}\")"
   ]
  },
  {
   "cell_type": "markdown",
   "metadata": {},
   "source": [
    "# Product modulo arithmetic <a class=\"anchor\" id=\"prodmod\"></a>\n",
    "\n",
    "We can try to define a modulo group with the product operation instead of the sum. This algebraic group **would** be denoted as: ($G$, $\\times$) where $G$ again is the set of elements {0, 1, 2, ..., $m$-1} and $\\times$ denoting the product operation.\n",
    "\n",
    "\n",
    "## closure <a class=\"anchor\" id=\"closure2\"></a>\n",
    "\n",
    "Straightforward: The product of two any elements will be scaled down to a positive element smaller than $m$.\n",
    "\n",
    "## associativity <a class=\"anchor\" id=\"associativity2\"></a>"
   ]
  },
  {
   "cell_type": "code",
   "execution_count": null,
   "metadata": {},
   "outputs": [],
   "source": [
    "m = 7\n",
    "\n",
    "i, j, k = 2, 3, 5\n",
    "\n",
    "assert ((i*j)%m*k)%m==(i*(j*k)%m)%m"
   ]
  },
  {
   "cell_type": "markdown",
   "metadata": {},
   "source": [
    "## Identity <a class=\"anchor\" id=\"identity2\"></a>\n",
    "\n",
    "In the product the identity is 1"
   ]
  },
  {
   "cell_type": "code",
   "execution_count": null,
   "metadata": {},
   "outputs": [],
   "source": [
    "m = 7\n",
    "\n",
    "i, e = 3, 1\n",
    "\n",
    "assert (i*e)%m==i%m"
   ]
  },
  {
   "cell_type": "markdown",
   "metadata": {},
   "source": [
    "## Inverse of element <a class=\"anchor\" id=\"inverse2\"></a>\n",
    "\n",
    "The inverse on the product modulo is not as straightforward."
   ]
  },
  {
   "cell_type": "code",
   "execution_count": null,
   "metadata": {},
   "outputs": [],
   "source": [
    "m = 7\n",
    "i = 5\n",
    "\n",
    "for j in range(m):\n",
    "    print(f\"{i}*{j} = {(i*j)%m}\")"
   ]
  },
  {
   "cell_type": "code",
   "execution_count": null,
   "metadata": {},
   "outputs": [],
   "source": [
    "m = 52\n",
    "i = 2\n",
    "\n",
    "for j in range(m):\n",
    "    print(f\"{i}*{j} = {(i*j)%m}\")"
   ]
  }
 ],
 "metadata": {
  "kernelspec": {
   "display_name": "Python 3",
   "language": "python",
   "name": "python3"
  },
  "language_info": {
   "codemirror_mode": {
    "name": "ipython",
    "version": 3
   },
   "file_extension": ".py",
   "mimetype": "text/x-python",
   "name": "python",
   "nbconvert_exporter": "python",
   "pygments_lexer": "ipython3",
   "version": "3.6.7"
  }
 },
 "nbformat": 4,
 "nbformat_minor": 4
}
